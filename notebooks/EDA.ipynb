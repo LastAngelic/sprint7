{
 "cells": [
  {
   "cell_type": "code",
   "execution_count": null,
   "id": "81c1928f",
   "metadata": {
    "vscode": {
     "languageId": "plaintext"
    }
   },
   "outputs": [],
   "source": [
    "import pandas as pd\n",
    "\n",
    "# Si el archivo vehicles_us.csv está en la misma carpeta que tu notebook:\n",
    "df = pd.read_csv(\"vehicles_us.csv\")\n",
    "\n",
    "# Si está en la carpeta raíz del proyecto y tu notebook está en /notebooks:\n",
    "df = pd.read_csv(\"../vehicles_us.csv\")\n",
    "\n",
    "df.head()\n",
    "\n",
    "\n"
   ]
  }
 ],
 "metadata": {
  "language_info": {
   "name": "python"
  }
 },
 "nbformat": 4,
 "nbformat_minor": 5
}
