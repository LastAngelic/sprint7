{
 "cells": [
  {
   "cell_type": "code",
   "execution_count": null,
   "id": "81c1928f",
   "metadata": {
    "vscode": {
     "languageId": "plaintext"
    }
   },
   "outputs": [],
   "source": [
    "import pandas as pd\n",
    "import plotly.graph_objects as go # Importación de plotly.graph_objects como go\n",
    "\n",
    "# Leer los datos del archivo CSV\n",
    "car_data = pd.read_csv('vehicles_us.csv')\n",
    "\n",
    "# Crear un histograma utilizando plotly.graph_objects\n",
    "# Se crea una figura vacía y luego se añade un rastro de histograma\n",
    "fig = go.Figure(data=[go.Histogram(x=car_data['odometer'])])\n",
    "\n",
    "# Opcional: Puedes añadir un título al gráfico si lo deseas\n",
    "fig.update_layout(title_text='Distribución del Odómetro')\n",
    "\n",
    "# Mostrar el gráfico Plotly\n",
    "fig.show()\n",
    "\n"
   ]
  }
 ],
 "metadata": {
  "language_info": {
   "name": "python"
  }
 },
 "nbformat": 4,
 "nbformat_minor": 5
}
